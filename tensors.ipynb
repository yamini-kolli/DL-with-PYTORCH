{
 "cells": [
  {
   "cell_type": "code",
   "execution_count": 1,
   "id": "a9ae9a0c",
   "metadata": {},
   "outputs": [
    {
     "name": "stdout",
     "output_type": "stream",
     "text": [
      "2.7.0+cpu\n"
     ]
    }
   ],
   "source": [
    "import torch\n",
    "print(torch.__version__)"
   ]
  },
  {
   "cell_type": "code",
   "execution_count": 3,
   "id": "5897d52e",
   "metadata": {},
   "outputs": [
    {
     "name": "stdout",
     "output_type": "stream",
     "text": [
      "GPU not available. Using CPu.\n"
     ]
    }
   ],
   "source": [
    "if torch.cuda.is_available():\n",
    "    print(\"GPU is available\")\n",
    "    print(f\"Using Gpu: {torch.cuda.get_device_name(0)}\")\n",
    "else:\n",
    "    print(\"GPU not available. Using CPu.\")"
   ]
  },
  {
   "cell_type": "code",
   "execution_count": 4,
   "id": "d34064ae",
   "metadata": {},
   "outputs": [],
   "source": [
    "### Creating a Tensors"
   ]
  },
  {
   "cell_type": "code",
   "execution_count": 9,
   "id": "2d03e538",
   "metadata": {},
   "outputs": [
    {
     "data": {
      "text/plain": [
       "tensor([[0., 0., 0.],\n",
       "        [0., 0., 0.]])"
      ]
     },
     "execution_count": 9,
     "metadata": {},
     "output_type": "execute_result"
    }
   ],
   "source": [
    "## using empty ---> create empty tensor with already exixting values stored in memory\n",
    "torch.empty(2,3)"
   ]
  },
  {
   "cell_type": "code",
   "execution_count": 10,
   "id": "eff925b4",
   "metadata": {},
   "outputs": [],
   "source": [
    "a = torch.empty(2,3)"
   ]
  },
  {
   "cell_type": "code",
   "execution_count": 11,
   "id": "c7642fc4",
   "metadata": {},
   "outputs": [
    {
     "data": {
      "text/plain": [
       "torch.Tensor"
      ]
     },
     "execution_count": 11,
     "metadata": {},
     "output_type": "execute_result"
    }
   ],
   "source": [
    "#check type\n",
    "type(a)"
   ]
  },
  {
   "cell_type": "code",
   "execution_count": 12,
   "id": "27b6e91c",
   "metadata": {},
   "outputs": [
    {
     "data": {
      "text/plain": [
       "tensor([[0., 0., 0.],\n",
       "        [0., 0., 0.]])"
      ]
     },
     "execution_count": 12,
     "metadata": {},
     "output_type": "execute_result"
    }
   ],
   "source": [
    "#using zeros --> initialise tensor to zeros\n",
    "torch.zeros(2,3)"
   ]
  },
  {
   "cell_type": "code",
   "execution_count": 13,
   "id": "187b1d08",
   "metadata": {},
   "outputs": [
    {
     "data": {
      "text/plain": [
       "tensor([[1., 1., 1.],\n",
       "        [1., 1., 1.]])"
      ]
     },
     "execution_count": 13,
     "metadata": {},
     "output_type": "execute_result"
    }
   ],
   "source": [
    "##using ones -->Initialise tensor to ones\n",
    "torch.ones(2,3)"
   ]
  },
  {
   "cell_type": "code",
   "execution_count": null,
   "id": "15e20e13",
   "metadata": {},
   "outputs": [
    {
     "data": {
      "text/plain": [
       "tensor([[0.9749, 0.4530, 0.4431],\n",
       "        [0.1226, 0.9343, 0.7612]])"
      ]
     },
     "execution_count": 14,
     "metadata": {},
     "output_type": "execute_result"
    }
   ],
   "source": [
    "#using rand --> within 0-1 range randomly\n",
    "torch.rand(2,3)"
   ]
  },
  {
   "cell_type": "code",
   "execution_count": 15,
   "id": "87f4f2ba",
   "metadata": {},
   "outputs": [
    {
     "data": {
      "text/plain": [
       "tensor([[0.9076, 0.4557, 0.9398],\n",
       "        [0.3266, 0.0404, 0.7967]])"
      ]
     },
     "execution_count": 15,
     "metadata": {},
     "output_type": "execute_result"
    }
   ],
   "source": [
    "torch.rand(2,3)"
   ]
  },
  {
   "cell_type": "code",
   "execution_count": 16,
   "id": "9a5e193d",
   "metadata": {},
   "outputs": [
    {
     "data": {
      "text/plain": [
       "tensor([[0.4638, 0.7986, 0.8355],\n",
       "        [0.9407, 0.2521, 0.9259]])"
      ]
     },
     "execution_count": 16,
     "metadata": {},
     "output_type": "execute_result"
    }
   ],
   "source": [
    "#using seed --> to generate same random numbers when we execute\n",
    "#manual_seed\n",
    "torch.manual_seed(140)\n",
    "torch.rand(2,3)"
   ]
  },
  {
   "cell_type": "code",
   "execution_count": 17,
   "id": "9ff416c0",
   "metadata": {},
   "outputs": [
    {
     "data": {
      "text/plain": [
       "tensor([[0.4638, 0.7986, 0.8355],\n",
       "        [0.9407, 0.2521, 0.9259]])"
      ]
     },
     "execution_count": 17,
     "metadata": {},
     "output_type": "execute_result"
    }
   ],
   "source": [
    "torch.manual_seed(140)\n",
    "torch.rand(2,3)"
   ]
  },
  {
   "cell_type": "code",
   "execution_count": 18,
   "id": "364a4fe9",
   "metadata": {},
   "outputs": [
    {
     "data": {
      "text/plain": [
       "tensor([[1, 2, 3],\n",
       "        [4, 5, 6]])"
      ]
     },
     "execution_count": 18,
     "metadata": {},
     "output_type": "execute_result"
    }
   ],
   "source": [
    "#using tensor --> to made custom tensors\n",
    "torch.tensor([\n",
    "    [1,2,3],\n",
    "    [4,5,6]\n",
    "])"
   ]
  },
  {
   "cell_type": "code",
   "execution_count": 21,
   "id": "85ecb862",
   "metadata": {},
   "outputs": [
    {
     "name": "stdout",
     "output_type": "stream",
     "text": [
      "Using arange -> tensor([0, 3, 6, 9])\n"
     ]
    }
   ],
   "source": [
    "#arange --> 1d tensor within range specifing the jump\n",
    "print(\"Using arange ->\",torch.arange(0,10,3))"
   ]
  },
  {
   "cell_type": "code",
   "execution_count": 22,
   "id": "43bf41fe",
   "metadata": {},
   "outputs": [
    {
     "name": "stdout",
     "output_type": "stream",
     "text": [
      "Using linspace -> tensor([ 0.0000,  0.7143,  1.4286,  2.1429,  2.8571,  3.5714,  4.2857,  5.0000,\n",
      "         5.7143,  6.4286,  7.1429,  7.8571,  8.5714,  9.2857, 10.0000])\n"
     ]
    }
   ],
   "source": [
    "#using linspace --> within range linearly spaced elements with no.of elements we need\n",
    "print(\"Using linspace ->\",torch.linspace(0,10,15))"
   ]
  },
  {
   "cell_type": "code",
   "execution_count": 26,
   "id": "cd6b34a1",
   "metadata": {},
   "outputs": [
    {
     "name": "stdout",
     "output_type": "stream",
     "text": [
      "tensor([[1., 0., 0., 0., 0.],\n",
      "        [0., 1., 0., 0., 0.],\n",
      "        [0., 0., 1., 0., 0.],\n",
      "        [0., 0., 0., 1., 0.],\n",
      "        [0., 0., 0., 0., 1.]])\n",
      "tensor([[1., 0., 0.],\n",
      "        [0., 1., 0.],\n",
      "        [0., 0., 1.]])\n"
     ]
    }
   ],
   "source": [
    "#using eye --> to create identity tensor\n",
    "print(torch.eye(5))\n",
    "print(torch.eye(3,3))"
   ]
  },
  {
   "cell_type": "code",
   "execution_count": 28,
   "id": "e9190ab4",
   "metadata": {},
   "outputs": [
    {
     "name": "stdout",
     "output_type": "stream",
     "text": [
      "tensor([[5, 5, 5],\n",
      "        [5, 5, 5],\n",
      "        [5, 5, 5]])\n"
     ]
    }
   ],
   "source": [
    "#using full --> to fill same element to the tensor with parameters of matrix dimensions and value\n",
    "print(torch.full((3,3),5))"
   ]
  },
  {
   "cell_type": "code",
   "execution_count": 29,
   "id": "72bd70f2",
   "metadata": {},
   "outputs": [],
   "source": [
    "# Tensor Shape"
   ]
  },
  {
   "cell_type": "code",
   "execution_count": 30,
   "id": "64be2ded",
   "metadata": {},
   "outputs": [
    {
     "data": {
      "text/plain": [
       "tensor([[1, 2, 4],\n",
       "        [5, 6, 7]])"
      ]
     },
     "execution_count": 30,
     "metadata": {},
     "output_type": "execute_result"
    }
   ],
   "source": [
    "x = torch.tensor([[1,2,4],[5,6,7]])\n",
    "x"
   ]
  },
  {
   "cell_type": "code",
   "execution_count": 31,
   "id": "d53bd9c6",
   "metadata": {},
   "outputs": [
    {
     "data": {
      "text/plain": [
       "torch.Size([2, 3])"
      ]
     },
     "execution_count": 31,
     "metadata": {},
     "output_type": "execute_result"
    }
   ],
   "source": [
    "x.shape"
   ]
  },
  {
   "cell_type": "code",
   "execution_count": 33,
   "id": "41ab059d",
   "metadata": {},
   "outputs": [
    {
     "data": {
      "text/plain": [
       "tensor([[0, 0, 0],\n",
       "        [0, 0, 0]])"
      ]
     },
     "execution_count": 33,
     "metadata": {},
     "output_type": "execute_result"
    }
   ],
   "source": [
    "#generating tensor with same shape of x\n",
    "torch.empty_like(x)"
   ]
  },
  {
   "cell_type": "code",
   "execution_count": 34,
   "id": "68b2332a",
   "metadata": {},
   "outputs": [
    {
     "data": {
      "text/plain": [
       "tensor([[0, 0, 0],\n",
       "        [0, 0, 0]])"
      ]
     },
     "execution_count": 34,
     "metadata": {},
     "output_type": "execute_result"
    }
   ],
   "source": [
    "torch.zeros_like(x)"
   ]
  },
  {
   "cell_type": "code",
   "execution_count": 35,
   "id": "9e387aa0",
   "metadata": {},
   "outputs": [
    {
     "data": {
      "text/plain": [
       "tensor([[1, 1, 1],\n",
       "        [1, 1, 1]])"
      ]
     },
     "execution_count": 35,
     "metadata": {},
     "output_type": "execute_result"
    }
   ],
   "source": [
    "torch.ones_like(x)"
   ]
  },
  {
   "cell_type": "code",
   "execution_count": null,
   "id": "1bf68ff5",
   "metadata": {},
   "outputs": [
    {
     "ename": "RuntimeError",
     "evalue": "\"check_uniform_bounds\" not implemented for 'Long'",
     "output_type": "error",
     "traceback": [
      "\u001b[31m---------------------------------------------------------------------------\u001b[39m",
      "\u001b[31mRuntimeError\u001b[39m                              Traceback (most recent call last)",
      "\u001b[36mCell\u001b[39m\u001b[36m \u001b[39m\u001b[32mIn[36]\u001b[39m\u001b[32m, line 1\u001b[39m\n\u001b[32m----> \u001b[39m\u001b[32m1\u001b[39m \u001b[43mtorch\u001b[49m\u001b[43m.\u001b[49m\u001b[43mrand_like\u001b[49m\u001b[43m(\u001b[49m\u001b[43mx\u001b[49m\u001b[43m)\u001b[49m\n",
      "\u001b[31mRuntimeError\u001b[39m: \"check_uniform_bounds\" not implemented for 'Long'"
     ]
    }
   ],
   "source": [
    "torch.rand_like(x)\n",
    "## issue arises because of rand generates a floating point values whereas x is integers"
   ]
  },
  {
   "cell_type": "code",
   "execution_count": null,
   "id": "61bb7c43",
   "metadata": {},
   "outputs": [],
   "source": [
    "##Tensor Data Types"
   ]
  },
  {
   "cell_type": "code",
   "execution_count": 37,
   "id": "03ac5a59",
   "metadata": {},
   "outputs": [
    {
     "data": {
      "text/plain": [
       "tensor([[1, 2, 4],\n",
       "        [5, 6, 7]])"
      ]
     },
     "execution_count": 37,
     "metadata": {},
     "output_type": "execute_result"
    }
   ],
   "source": [
    "x"
   ]
  },
  {
   "cell_type": "code",
   "execution_count": null,
   "id": "3ea59758",
   "metadata": {},
   "outputs": [
    {
     "data": {
      "text/plain": [
       "torch.int64"
      ]
     },
     "execution_count": 38,
     "metadata": {},
     "output_type": "execute_result"
    }
   ],
   "source": [
    "#find the data types\n",
    "x.dtype"
   ]
  },
  {
   "cell_type": "code",
   "execution_count": 39,
   "id": "0fb12984",
   "metadata": {},
   "outputs": [
    {
     "data": {
      "text/plain": [
       "tensor([1, 2, 3], dtype=torch.int32)"
      ]
     },
     "execution_count": 39,
     "metadata": {},
     "output_type": "execute_result"
    }
   ],
   "source": [
    "#assign data types\n",
    "torch.tensor([1.0,2.0,3.0], dtype=torch.int32)"
   ]
  },
  {
   "cell_type": "code",
   "execution_count": 40,
   "id": "569328c3",
   "metadata": {},
   "outputs": [
    {
     "data": {
      "text/plain": [
       "tensor([1., 2., 3.], dtype=torch.float64)"
      ]
     },
     "execution_count": 40,
     "metadata": {},
     "output_type": "execute_result"
    }
   ],
   "source": [
    "torch.tensor([1,2,3],dtype = torch.float64)"
   ]
  },
  {
   "cell_type": "code",
   "execution_count": 41,
   "id": "8bd112bf",
   "metadata": {},
   "outputs": [
    {
     "data": {
      "text/plain": [
       "tensor([[1, 2, 4],\n",
       "        [5, 6, 7]])"
      ]
     },
     "execution_count": 41,
     "metadata": {},
     "output_type": "execute_result"
    }
   ],
   "source": [
    "#using to() --> to convert into another datatype\n",
    "x"
   ]
  },
  {
   "cell_type": "code",
   "execution_count": 42,
   "id": "a43e1b8f",
   "metadata": {},
   "outputs": [
    {
     "data": {
      "text/plain": [
       "tensor([[1., 2., 4.],\n",
       "        [5., 6., 7.]])"
      ]
     },
     "execution_count": 42,
     "metadata": {},
     "output_type": "execute_result"
    }
   ],
   "source": [
    "x.to(torch.float32)"
   ]
  },
  {
   "cell_type": "code",
   "execution_count": 47,
   "id": "a26ea754",
   "metadata": {},
   "outputs": [],
   "source": [
    "x=torch.tensor([[2,3,4],[5,6,7]])"
   ]
  },
  {
   "cell_type": "code",
   "execution_count": 48,
   "id": "22cc8264",
   "metadata": {},
   "outputs": [
    {
     "data": {
      "text/plain": [
       "tensor([[0.2120, 0.2648, 0.6167],\n",
       "        [0.7709, 0.3080, 0.5728]], dtype=torch.float64)"
      ]
     },
     "execution_count": 48,
     "metadata": {},
     "output_type": "execute_result"
    }
   ],
   "source": [
    "torch.rand_like(x,dtype=torch.float64)"
   ]
  },
  {
   "cell_type": "code",
   "execution_count": null,
   "id": "cf41c236",
   "metadata": {},
   "outputs": [],
   "source": [
    "#Mathematical Operations"
   ]
  },
  {
   "cell_type": "code",
   "execution_count": 49,
   "id": "989edd9a",
   "metadata": {},
   "outputs": [
    {
     "data": {
      "text/plain": [
       "tensor([[0.0702, 0.6158, 0.2246],\n",
       "        [0.5839, 0.3243, 0.1169]])"
      ]
     },
     "execution_count": 49,
     "metadata": {},
     "output_type": "execute_result"
    }
   ],
   "source": [
    "x= torch.rand(2,3)\n",
    "x"
   ]
  },
  {
   "cell_type": "code",
   "execution_count": 61,
   "id": "171c160d",
   "metadata": {},
   "outputs": [
    {
     "data": {
      "text/plain": [
       "tensor([[0.0003, 0.2335, 0.0113],\n",
       "        [0.1991, 0.0341, 0.0016]])"
      ]
     },
     "execution_count": 61,
     "metadata": {},
     "output_type": "execute_result"
    }
   ],
   "source": [
    "#1.Scalar Operation\n",
    "#addition\n",
    "x+5\n",
    "#subtraction\n",
    "x-3\n",
    "#multiplication\n",
    "x *3\n",
    "#division\n",
    "x/3\n",
    "# int division\n",
    "(x*100)//3\n",
    "#mod\n",
    "((x*100)//3)%2\n",
    "#power\n",
    "x**3"
   ]
  },
  {
   "cell_type": "markdown",
   "id": "87c9ea66",
   "metadata": {},
   "source": [
    "2.element wise operations"
   ]
  },
  {
   "cell_type": "code",
   "execution_count": 63,
   "id": "e4f87b67",
   "metadata": {},
   "outputs": [
    {
     "name": "stdout",
     "output_type": "stream",
     "text": [
      "tensor([[0.2476, 0.2486, 0.6064],\n",
      "        [0.3956, 0.3552, 0.4059]])\n",
      "tensor([[0.9706, 0.6362, 0.5688],\n",
      "        [0.4151, 0.7162, 0.5920]])\n"
     ]
    }
   ],
   "source": [
    "a = torch.rand(2,3)\n",
    "b = torch.rand(2,3)\n",
    "print(a)\n",
    "print(b)"
   ]
  },
  {
   "cell_type": "code",
   "execution_count": 64,
   "id": "7354c465",
   "metadata": {},
   "outputs": [
    {
     "data": {
      "text/plain": [
       "tensor([[1.2182, 0.8847, 1.1752],\n",
       "        [0.8108, 1.0714, 0.9978]])"
      ]
     },
     "execution_count": 64,
     "metadata": {},
     "output_type": "execute_result"
    }
   ],
   "source": [
    "#addition\n",
    "a + b"
   ]
  },
  {
   "cell_type": "code",
   "execution_count": 65,
   "id": "dbd7151d",
   "metadata": {},
   "outputs": [
    {
     "data": {
      "text/plain": [
       "tensor([[-0.7230, -0.3876,  0.0376],\n",
       "        [-0.0195, -0.3610, -0.1861]])"
      ]
     },
     "execution_count": 65,
     "metadata": {},
     "output_type": "execute_result"
    }
   ],
   "source": [
    "#subtraction\n",
    "a - b"
   ]
  },
  {
   "cell_type": "code",
   "execution_count": 66,
   "id": "43b4c30d",
   "metadata": {},
   "outputs": [
    {
     "data": {
      "text/plain": [
       "tensor([[0.2404, 0.1581, 0.3449],\n",
       "        [0.1642, 0.2544, 0.2403]])"
      ]
     },
     "execution_count": 66,
     "metadata": {},
     "output_type": "execute_result"
    }
   ],
   "source": [
    "#multiply\n",
    "a * b"
   ]
  },
  {
   "cell_type": "code",
   "execution_count": 67,
   "id": "300f04ac",
   "metadata": {},
   "outputs": [
    {
     "data": {
      "text/plain": [
       "tensor([[0.2551, 0.3907, 1.0660],\n",
       "        [0.9530, 0.4960, 0.6856]])"
      ]
     },
     "execution_count": 67,
     "metadata": {},
     "output_type": "execute_result"
    }
   ],
   "source": [
    "#division\n",
    "a / b "
   ]
  },
  {
   "cell_type": "code",
   "execution_count": 69,
   "id": "279eabe4",
   "metadata": {},
   "outputs": [
    {
     "name": "stdout",
     "output_type": "stream",
     "text": [
      "tensor([[0.2580, 0.4125, 0.7523],\n",
      "        [0.6805, 0.4765, 0.5864]])\n",
      "tensor([[0.2476, 0.2486, 0.0376],\n",
      "        [0.3956, 0.3552, 0.4059]])\n"
     ]
    }
   ],
   "source": [
    "#power\n",
    "print(a ** b)\n",
    "# mod\n",
    "print(a % b)"
   ]
  },
  {
   "cell_type": "code",
   "execution_count": 74,
   "id": "ac797990",
   "metadata": {},
   "outputs": [],
   "source": [
    "c = torch.tensor([-1,2,3,4]\n",
    ")"
   ]
  },
  {
   "cell_type": "code",
   "execution_count": null,
   "id": "d9d4e815",
   "metadata": {},
   "outputs": [
    {
     "data": {
      "text/plain": [
       "tensor([1, 2, 3, 4])"
      ]
     },
     "execution_count": 75,
     "metadata": {},
     "output_type": "execute_result"
    }
   ],
   "source": [
    "#absolute\n",
    "torch.abs(c)"
   ]
  },
  {
   "cell_type": "code",
   "execution_count": null,
   "id": "351ec409",
   "metadata": {},
   "outputs": [
    {
     "data": {
      "text/plain": [
       "tensor([ 1, -2, -3, -4])"
      ]
     },
     "execution_count": 76,
     "metadata": {},
     "output_type": "execute_result"
    }
   ],
   "source": [
    "#Negation\n",
    "torch.neg(c)"
   ]
  },
  {
   "cell_type": "code",
   "execution_count": 77,
   "id": "2ad2a918",
   "metadata": {},
   "outputs": [],
   "source": [
    "d = torch.tensor([1.9,2.3,3.7,4.4])"
   ]
  },
  {
   "cell_type": "code",
   "execution_count": 78,
   "id": "688940da",
   "metadata": {},
   "outputs": [
    {
     "data": {
      "text/plain": [
       "tensor([2., 2., 4., 4.])"
      ]
     },
     "execution_count": 78,
     "metadata": {},
     "output_type": "execute_result"
    }
   ],
   "source": [
    "#round\n",
    "torch.round(d)"
   ]
  },
  {
   "cell_type": "code",
   "execution_count": 79,
   "id": "7d4168f3",
   "metadata": {},
   "outputs": [
    {
     "data": {
      "text/plain": [
       "tensor([2., 3., 4., 5.])"
      ]
     },
     "execution_count": 79,
     "metadata": {},
     "output_type": "execute_result"
    }
   ],
   "source": [
    "#ceil\n",
    "torch.ceil(d)"
   ]
  },
  {
   "cell_type": "code",
   "execution_count": 80,
   "id": "837d1507",
   "metadata": {},
   "outputs": [
    {
     "data": {
      "text/plain": [
       "tensor([1., 2., 3., 4.])"
      ]
     },
     "execution_count": 80,
     "metadata": {},
     "output_type": "execute_result"
    }
   ],
   "source": [
    "#floor\n",
    "torch.floor(d)"
   ]
  },
  {
   "cell_type": "code",
   "execution_count": 82,
   "id": "a03f8fe5",
   "metadata": {},
   "outputs": [
    {
     "data": {
      "text/plain": [
       "tensor([2.0000, 2.3000, 3.0000, 3.0000])"
      ]
     },
     "execution_count": 82,
     "metadata": {},
     "output_type": "execute_result"
    }
   ],
   "source": [
    "#clamp --> min,max lower than min returns min ,greater than max returns max\n",
    "torch.clamp(d,min=2,max=3)"
   ]
  },
  {
   "cell_type": "markdown",
   "id": "3b6fbae6",
   "metadata": {},
   "source": [
    "Reduction operation --> from tensor to single value "
   ]
  },
  {
   "cell_type": "code",
   "execution_count": 89,
   "id": "049449c0",
   "metadata": {},
   "outputs": [
    {
     "data": {
      "text/plain": [
       "tensor([[8., 3., 6.],\n",
       "        [4., 9., 8.]])"
      ]
     },
     "execution_count": 89,
     "metadata": {},
     "output_type": "execute_result"
    }
   ],
   "source": [
    "e = torch.randint(size=(2,3),low=0,high=10,dtype=torch.float32)\n",
    "e"
   ]
  },
  {
   "cell_type": "code",
   "execution_count": 90,
   "id": "73fb898d",
   "metadata": {},
   "outputs": [
    {
     "data": {
      "text/plain": [
       "tensor(38.)"
      ]
     },
     "execution_count": 90,
     "metadata": {},
     "output_type": "execute_result"
    }
   ],
   "source": [
    "#sum\n",
    "torch.sum(e)"
   ]
  },
  {
   "cell_type": "code",
   "execution_count": 91,
   "id": "ab11eda0",
   "metadata": {},
   "outputs": [
    {
     "data": {
      "text/plain": [
       "tensor([12., 12., 14.])"
      ]
     },
     "execution_count": 91,
     "metadata": {},
     "output_type": "execute_result"
    }
   ],
   "source": [
    "#sum along columns\n",
    "torch.sum(e,dim=0)"
   ]
  },
  {
   "cell_type": "code",
   "execution_count": 92,
   "id": "f1c0d015",
   "metadata": {},
   "outputs": [
    {
     "data": {
      "text/plain": [
       "tensor([17., 21.])"
      ]
     },
     "execution_count": 92,
     "metadata": {},
     "output_type": "execute_result"
    }
   ],
   "source": [
    "#sum along rows\n",
    "torch.sum(e,dim=1)"
   ]
  },
  {
   "cell_type": "code",
   "execution_count": 93,
   "id": "a721620d",
   "metadata": {},
   "outputs": [
    {
     "data": {
      "text/plain": [
       "tensor(6.3333)"
      ]
     },
     "execution_count": 93,
     "metadata": {},
     "output_type": "execute_result"
    }
   ],
   "source": [
    "#mean \n",
    "torch.mean(e)"
   ]
  },
  {
   "cell_type": "code",
   "execution_count": 94,
   "id": "33a56049",
   "metadata": {},
   "outputs": [
    {
     "name": "stdout",
     "output_type": "stream",
     "text": [
      "tensor([6., 6., 7.])\n",
      "tensor([5.6667, 7.0000])\n"
     ]
    }
   ],
   "source": [
    "#mean along columns\n",
    "print(torch.mean(e,dim=0))\n",
    "#mean along rows\n",
    "print(torch.mean(e,dim=1))"
   ]
  },
  {
   "cell_type": "code",
   "execution_count": 95,
   "id": "2c612521",
   "metadata": {},
   "outputs": [
    {
     "data": {
      "text/plain": [
       "tensor(6.)"
      ]
     },
     "execution_count": 95,
     "metadata": {},
     "output_type": "execute_result"
    }
   ],
   "source": [
    "torch.median(e)"
   ]
  },
  {
   "cell_type": "code",
   "execution_count": 96,
   "id": "9edd0856",
   "metadata": {},
   "outputs": [
    {
     "data": {
      "text/plain": [
       "tensor(9.)"
      ]
     },
     "execution_count": 96,
     "metadata": {},
     "output_type": "execute_result"
    }
   ],
   "source": [
    "torch.max(e)\n"
   ]
  },
  {
   "cell_type": "code",
   "execution_count": 97,
   "id": "bb818167",
   "metadata": {},
   "outputs": [
    {
     "data": {
      "text/plain": [
       "tensor(3.)"
      ]
     },
     "execution_count": 97,
     "metadata": {},
     "output_type": "execute_result"
    }
   ],
   "source": [
    "torch.min(e)"
   ]
  },
  {
   "cell_type": "code",
   "execution_count": 98,
   "id": "ceaf101f",
   "metadata": {},
   "outputs": [
    {
     "data": {
      "text/plain": [
       "tensor(41472.)"
      ]
     },
     "execution_count": 98,
     "metadata": {},
     "output_type": "execute_result"
    }
   ],
   "source": [
    "#product\n",
    "torch.prod(e)"
   ]
  },
  {
   "cell_type": "code",
   "execution_count": 99,
   "id": "7d46c07c",
   "metadata": {},
   "outputs": [
    {
     "data": {
      "text/plain": [
       "tensor(2.4221)"
      ]
     },
     "execution_count": 99,
     "metadata": {},
     "output_type": "execute_result"
    }
   ],
   "source": [
    "#standard deviation\n",
    "torch.std(e)"
   ]
  },
  {
   "cell_type": "code",
   "execution_count": 100,
   "id": "a43cf32d",
   "metadata": {},
   "outputs": [
    {
     "data": {
      "text/plain": [
       "tensor(5.8667)"
      ]
     },
     "execution_count": 100,
     "metadata": {},
     "output_type": "execute_result"
    }
   ],
   "source": [
    "torch.var(e)"
   ]
  },
  {
   "cell_type": "code",
   "execution_count": null,
   "id": "5a7b2384",
   "metadata": {},
   "outputs": [
    {
     "data": {
      "text/plain": [
       "tensor(4)"
      ]
     },
     "execution_count": 101,
     "metadata": {},
     "output_type": "execute_result"
    }
   ],
   "source": [
    "#argmax --> position of maximum element in tensor starting counting with 0 in number in rows\n",
    "torch.argmax(e) "
   ]
  },
  {
   "cell_type": "code",
   "execution_count": 102,
   "id": "247ef755",
   "metadata": {},
   "outputs": [
    {
     "data": {
      "text/plain": [
       "tensor(1)"
      ]
     },
     "execution_count": 102,
     "metadata": {},
     "output_type": "execute_result"
    }
   ],
   "source": [
    "#argmin\n",
    "torch.argmin(e)"
   ]
  },
  {
   "cell_type": "markdown",
   "id": "c3018800",
   "metadata": {},
   "source": [
    "Matrix Operations"
   ]
  },
  {
   "cell_type": "code",
   "execution_count": 103,
   "id": "4503fdfc",
   "metadata": {},
   "outputs": [
    {
     "name": "stdout",
     "output_type": "stream",
     "text": [
      "tensor([[6, 6, 8],\n",
      "        [6, 2, 7]])\n",
      "tensor([[6, 1],\n",
      "        [1, 8],\n",
      "        [9, 2]])\n"
     ]
    }
   ],
   "source": [
    "f = torch.randint(size=(2,3),low =0,high=10)\n",
    "g = torch.randint(size=(3,2),low=0,high=10)\n",
    "print(f)\n",
    "print(g)"
   ]
  },
  {
   "cell_type": "code",
   "execution_count": 104,
   "id": "fa76bf95",
   "metadata": {},
   "outputs": [
    {
     "data": {
      "text/plain": [
       "tensor([[114,  70],\n",
       "        [101,  36]])"
      ]
     },
     "execution_count": 104,
     "metadata": {},
     "output_type": "execute_result"
    }
   ],
   "source": [
    "#matrix multiplication\n",
    "torch.matmul(f,g)"
   ]
  },
  {
   "cell_type": "code",
   "execution_count": null,
   "id": "1b3e26ae",
   "metadata": {},
   "outputs": [
    {
     "data": {
      "text/plain": [
       "tensor(11)"
      ]
     },
     "execution_count": 105,
     "metadata": {},
     "output_type": "execute_result"
    }
   ],
   "source": [
    "vector1 = torch.tensor([1,2])\n",
    "vector2 = torch.tensor([3,4])\n",
    "#dot product -->(1*3)+(2*4) =11\n",
    "torch.dot(vector1,vector2)"
   ]
  },
  {
   "cell_type": "code",
   "execution_count": 106,
   "id": "dd090d40",
   "metadata": {},
   "outputs": [
    {
     "data": {
      "text/plain": [
       "tensor([[6, 6, 8],\n",
       "        [6, 2, 7]])"
      ]
     },
     "execution_count": 106,
     "metadata": {},
     "output_type": "execute_result"
    }
   ],
   "source": [
    "#transpose\n",
    "f"
   ]
  },
  {
   "cell_type": "code",
   "execution_count": 107,
   "id": "2003b938",
   "metadata": {},
   "outputs": [
    {
     "data": {
      "text/plain": [
       "tensor([[6, 6],\n",
       "        [6, 2],\n",
       "        [8, 7]])"
      ]
     },
     "execution_count": 107,
     "metadata": {},
     "output_type": "execute_result"
    }
   ],
   "source": [
    "torch.transpose(f,0,1)"
   ]
  },
  {
   "cell_type": "code",
   "execution_count": 108,
   "id": "80945056",
   "metadata": {},
   "outputs": [
    {
     "data": {
      "text/plain": [
       "tensor([[6, 6],\n",
       "        [6, 2],\n",
       "        [8, 7]])"
      ]
     },
     "execution_count": 108,
     "metadata": {},
     "output_type": "execute_result"
    }
   ],
   "source": [
    "torch.transpose(f,1,0)"
   ]
  },
  {
   "cell_type": "code",
   "execution_count": 110,
   "id": "0d5951a2",
   "metadata": {},
   "outputs": [
    {
     "data": {
      "text/plain": [
       "tensor([[5., 4., 7.],\n",
       "        [9., 0., 2.],\n",
       "        [9., 8., 8.]])"
      ]
     },
     "execution_count": 110,
     "metadata": {},
     "output_type": "execute_result"
    }
   ],
   "source": [
    "h = torch.randint(size=(3,3),low =0,high=10,dtype=torch.float32)\n",
    "h"
   ]
  },
  {
   "cell_type": "code",
   "execution_count": 111,
   "id": "9711f026",
   "metadata": {},
   "outputs": [
    {
     "data": {
      "text/plain": [
       "tensor(208.0000)"
      ]
     },
     "execution_count": 111,
     "metadata": {},
     "output_type": "execute_result"
    }
   ],
   "source": [
    "#determinant\n",
    "torch.det(h)"
   ]
  },
  {
   "cell_type": "code",
   "execution_count": 112,
   "id": "361ce2fc",
   "metadata": {},
   "outputs": [
    {
     "data": {
      "text/plain": [
       "tensor([[-0.0769,  0.1154,  0.0385],\n",
       "        [-0.2596, -0.1106,  0.2548],\n",
       "        [ 0.3462, -0.0192, -0.1731]])"
      ]
     },
     "execution_count": 112,
     "metadata": {},
     "output_type": "execute_result"
    }
   ],
   "source": [
    "#inverse \n",
    "torch.inverse(h)"
   ]
  },
  {
   "cell_type": "markdown",
   "id": "a7980c55",
   "metadata": {},
   "source": [
    "Comparison Operations"
   ]
  },
  {
   "cell_type": "code",
   "execution_count": 113,
   "id": "d36be3f9",
   "metadata": {},
   "outputs": [
    {
     "name": "stdout",
     "output_type": "stream",
     "text": [
      "tensor([[8, 6, 8],\n",
      "        [0, 9, 7]])\n",
      "tensor([[3, 1, 0],\n",
      "        [6, 0, 0]])\n"
     ]
    }
   ],
   "source": [
    "i = torch.randint(size=(2,3),low=0,high=10)\n",
    "j = torch.randint(size=(2,3),low =0,high =10)\n",
    "print(i)\n",
    "print(j)"
   ]
  },
  {
   "cell_type": "code",
   "execution_count": 114,
   "id": "c4c55f8c",
   "metadata": {},
   "outputs": [
    {
     "data": {
      "text/plain": [
       "tensor([[ True,  True,  True],\n",
       "        [False,  True,  True]])"
      ]
     },
     "execution_count": 114,
     "metadata": {},
     "output_type": "execute_result"
    }
   ],
   "source": [
    "#greater than\n",
    "i >j"
   ]
  },
  {
   "cell_type": "code",
   "execution_count": 115,
   "id": "cdfe74c9",
   "metadata": {},
   "outputs": [
    {
     "data": {
      "text/plain": [
       "tensor([[False, False, False],\n",
       "        [ True, False, False]])"
      ]
     },
     "execution_count": 115,
     "metadata": {},
     "output_type": "execute_result"
    }
   ],
   "source": [
    "#less than\n",
    "i < j"
   ]
  },
  {
   "cell_type": "code",
   "execution_count": 116,
   "id": "7c22f912",
   "metadata": {},
   "outputs": [
    {
     "data": {
      "text/plain": [
       "tensor([[False, False, False],\n",
       "        [False, False, False]])"
      ]
     },
     "execution_count": 116,
     "metadata": {},
     "output_type": "execute_result"
    }
   ],
   "source": [
    "#equal to\n",
    "i == j"
   ]
  },
  {
   "cell_type": "code",
   "execution_count": 117,
   "id": "ab2ab645",
   "metadata": {},
   "outputs": [
    {
     "data": {
      "text/plain": [
       "tensor([[True, True, True],\n",
       "        [True, True, True]])"
      ]
     },
     "execution_count": 117,
     "metadata": {},
     "output_type": "execute_result"
    }
   ],
   "source": [
    "# not equal to\n",
    "i != j"
   ]
  },
  {
   "cell_type": "code",
   "execution_count": 118,
   "id": "49f40ff8",
   "metadata": {},
   "outputs": [
    {
     "data": {
      "text/plain": [
       "tensor([[ True,  True,  True],\n",
       "        [False,  True,  True]])"
      ]
     },
     "execution_count": 118,
     "metadata": {},
     "output_type": "execute_result"
    }
   ],
   "source": [
    "#greater than equal to\n",
    "i >= j"
   ]
  },
  {
   "cell_type": "code",
   "execution_count": 119,
   "id": "89189df3",
   "metadata": {},
   "outputs": [
    {
     "data": {
      "text/plain": [
       "tensor([[False, False, False],\n",
       "        [ True, False, False]])"
      ]
     },
     "execution_count": 119,
     "metadata": {},
     "output_type": "execute_result"
    }
   ],
   "source": [
    "# less than equal to\n",
    "i <= j"
   ]
  },
  {
   "cell_type": "markdown",
   "id": "e7f3cdca",
   "metadata": {},
   "source": [
    "Special Functions"
   ]
  },
  {
   "cell_type": "code",
   "execution_count": 127,
   "id": "1b67d2b0",
   "metadata": {},
   "outputs": [
    {
     "data": {
      "text/plain": [
       "tensor([[0., 9., 1.],\n",
       "        [3., 8., 4.]])"
      ]
     },
     "execution_count": 127,
     "metadata": {},
     "output_type": "execute_result"
    }
   ],
   "source": [
    "k = torch.randint(size=(2,3),low=0,high=10,dtype=torch.float32)\n",
    "k"
   ]
  },
  {
   "cell_type": "code",
   "execution_count": 128,
   "id": "fe3730e6",
   "metadata": {},
   "outputs": [
    {
     "data": {
      "text/plain": [
       "tensor([[  -inf, 2.1972, 0.0000],\n",
       "        [1.0986, 2.0794, 1.3863]])"
      ]
     },
     "execution_count": 128,
     "metadata": {},
     "output_type": "execute_result"
    }
   ],
   "source": [
    "#log\n",
    "torch.log(k)"
   ]
  },
  {
   "cell_type": "code",
   "execution_count": 129,
   "id": "cc90ff68",
   "metadata": {},
   "outputs": [
    {
     "data": {
      "text/plain": [
       "tensor([[1.0000e+00, 8.1031e+03, 2.7183e+00],\n",
       "        [2.0086e+01, 2.9810e+03, 5.4598e+01]])"
      ]
     },
     "execution_count": 129,
     "metadata": {},
     "output_type": "execute_result"
    }
   ],
   "source": [
    "#exp\n",
    "torch.exp(k)"
   ]
  },
  {
   "cell_type": "code",
   "execution_count": 130,
   "id": "a615801f",
   "metadata": {},
   "outputs": [
    {
     "data": {
      "text/plain": [
       "tensor([[0.0000, 3.0000, 1.0000],\n",
       "        [1.7321, 2.8284, 2.0000]])"
      ]
     },
     "execution_count": 130,
     "metadata": {},
     "output_type": "execute_result"
    }
   ],
   "source": [
    "#sqrt\n",
    "torch.sqrt(k)"
   ]
  },
  {
   "cell_type": "code",
   "execution_count": 131,
   "id": "a3e8fb95",
   "metadata": {},
   "outputs": [
    {
     "data": {
      "text/plain": [
       "tensor([[0.5000, 0.9999, 0.7311],\n",
       "        [0.9526, 0.9997, 0.9820]])"
      ]
     },
     "execution_count": 131,
     "metadata": {},
     "output_type": "execute_result"
    }
   ],
   "source": [
    "#sigmoid\n",
    "torch.sigmoid(k)"
   ]
  },
  {
   "cell_type": "code",
   "execution_count": 132,
   "id": "c2bcb94e",
   "metadata": {},
   "outputs": [
    {
     "data": {
      "text/plain": [
       "tensor([[0.0474, 0.7311, 0.0474],\n",
       "        [0.9526, 0.2689, 0.9526]])"
      ]
     },
     "execution_count": 132,
     "metadata": {},
     "output_type": "execute_result"
    }
   ],
   "source": [
    "#softmax\n",
    "torch.softmax(k,dim=0)"
   ]
  },
  {
   "cell_type": "code",
   "execution_count": 133,
   "id": "34018241",
   "metadata": {},
   "outputs": [
    {
     "data": {
      "text/plain": [
       "tensor([[0., 9., 1.],\n",
       "        [3., 8., 4.]])"
      ]
     },
     "execution_count": 133,
     "metadata": {},
     "output_type": "execute_result"
    }
   ],
   "source": [
    "#relu\n",
    "torch.relu(k)"
   ]
  },
  {
   "cell_type": "markdown",
   "id": "fb8d3de2",
   "metadata": {},
   "source": [
    "Inplace Operations --> _ represents inplace operation e.g: add_,relu_"
   ]
  },
  {
   "cell_type": "code",
   "execution_count": 135,
   "id": "00f215f1",
   "metadata": {},
   "outputs": [
    {
     "name": "stdout",
     "output_type": "stream",
     "text": [
      "tensor([[0.4127, 0.7801, 0.5304],\n",
      "        [0.2789, 0.0154, 0.9150]])\n",
      "tensor([[0.7898, 0.6922, 0.2935],\n",
      "        [0.7312, 0.7862, 0.3973]])\n"
     ]
    }
   ],
   "source": [
    "m= torch.rand(2,3)\n",
    "n = torch.rand(2,3)\n",
    "print(m)\n",
    "print(n)"
   ]
  },
  {
   "cell_type": "code",
   "execution_count": 136,
   "id": "dae46a18",
   "metadata": {},
   "outputs": [
    {
     "data": {
      "text/plain": [
       "tensor([[1.2025, 1.4723, 0.8239],\n",
       "        [1.0102, 0.8016, 1.3123]])"
      ]
     },
     "execution_count": 136,
     "metadata": {},
     "output_type": "execute_result"
    }
   ],
   "source": [
    "m.add_(n)"
   ]
  },
  {
   "cell_type": "code",
   "execution_count": 137,
   "id": "74f4cebe",
   "metadata": {},
   "outputs": [
    {
     "data": {
      "text/plain": [
       "tensor([[1.2025, 1.4723, 0.8239],\n",
       "        [1.0102, 0.8016, 1.3123]])"
      ]
     },
     "execution_count": 137,
     "metadata": {},
     "output_type": "execute_result"
    }
   ],
   "source": [
    "m"
   ]
  },
  {
   "cell_type": "code",
   "execution_count": 138,
   "id": "9e4b2d24",
   "metadata": {},
   "outputs": [
    {
     "data": {
      "text/plain": [
       "tensor([[1.2025, 1.4723, 0.8239],\n",
       "        [1.0102, 0.8016, 1.3123]])"
      ]
     },
     "execution_count": 138,
     "metadata": {},
     "output_type": "execute_result"
    }
   ],
   "source": [
    "torch.relu(m)"
   ]
  },
  {
   "cell_type": "code",
   "execution_count": 140,
   "id": "6b94e4a2",
   "metadata": {},
   "outputs": [
    {
     "data": {
      "text/plain": [
       "tensor([[1.2025, 1.4723, 0.8239],\n",
       "        [1.0102, 0.8016, 1.3123]])"
      ]
     },
     "execution_count": 140,
     "metadata": {},
     "output_type": "execute_result"
    }
   ],
   "source": [
    "m"
   ]
  },
  {
   "cell_type": "code",
   "execution_count": 141,
   "id": "b6a77c30",
   "metadata": {},
   "outputs": [
    {
     "data": {
      "text/plain": [
       "tensor([[1.2025, 1.4723, 0.8239],\n",
       "        [1.0102, 0.8016, 1.3123]])"
      ]
     },
     "execution_count": 141,
     "metadata": {},
     "output_type": "execute_result"
    }
   ],
   "source": [
    "m.relu_()"
   ]
  },
  {
   "cell_type": "code",
   "execution_count": 142,
   "id": "f990b8c2",
   "metadata": {},
   "outputs": [
    {
     "data": {
      "text/plain": [
       "tensor([[1.2025, 1.4723, 0.8239],\n",
       "        [1.0102, 0.8016, 1.3123]])"
      ]
     },
     "execution_count": 142,
     "metadata": {},
     "output_type": "execute_result"
    }
   ],
   "source": [
    "m"
   ]
  },
  {
   "cell_type": "markdown",
   "id": "78e60a88",
   "metadata": {},
   "source": [
    "Copying a Tensor"
   ]
  },
  {
   "cell_type": "code",
   "execution_count": 180,
   "id": "ae57fae1",
   "metadata": {},
   "outputs": [
    {
     "data": {
      "text/plain": [
       "tensor([[0.1826, 0.9005, 0.9307],\n",
       "        [0.6405, 0.5600, 0.7492]])"
      ]
     },
     "execution_count": 180,
     "metadata": {},
     "output_type": "execute_result"
    }
   ],
   "source": [
    "a = torch.rand(2,3)\n",
    "a"
   ]
  },
  {
   "cell_type": "code",
   "execution_count": 145,
   "id": "68f7adbe",
   "metadata": {},
   "outputs": [
    {
     "data": {
      "text/plain": [
       "tensor([[0.6297, 0.2172, 0.4500],\n",
       "        [0.2022, 0.6223, 0.1473]])"
      ]
     },
     "execution_count": 145,
     "metadata": {},
     "output_type": "execute_result"
    }
   ],
   "source": [
    "b = a\n",
    "b"
   ]
  },
  {
   "cell_type": "code",
   "execution_count": 146,
   "id": "58cd001d",
   "metadata": {},
   "outputs": [
    {
     "data": {
      "text/plain": [
       "tensor([[0.0000, 0.2172, 0.4500],\n",
       "        [0.2022, 0.6223, 0.1473]])"
      ]
     },
     "execution_count": 146,
     "metadata": {},
     "output_type": "execute_result"
    }
   ],
   "source": [
    "# by above if a changes b automatically changes with respect to a\n",
    "a[0][0]=0\n",
    "a"
   ]
  },
  {
   "cell_type": "code",
   "execution_count": 147,
   "id": "575821f4",
   "metadata": {},
   "outputs": [
    {
     "data": {
      "text/plain": [
       "tensor([[0.0000, 0.2172, 0.4500],\n",
       "        [0.2022, 0.6223, 0.1473]])"
      ]
     },
     "execution_count": 147,
     "metadata": {},
     "output_type": "execute_result"
    }
   ],
   "source": [
    "b"
   ]
  },
  {
   "cell_type": "code",
   "execution_count": 148,
   "id": "c9f5c28a",
   "metadata": {},
   "outputs": [
    {
     "data": {
      "text/plain": [
       "1453243937360"
      ]
     },
     "execution_count": 148,
     "metadata": {},
     "output_type": "execute_result"
    }
   ],
   "source": [
    "#copy (doesnot chang the copied version)\n",
    "id(a)"
   ]
  },
  {
   "cell_type": "code",
   "execution_count": 149,
   "id": "5dcacf3f",
   "metadata": {},
   "outputs": [
    {
     "data": {
      "text/plain": [
       "1453243937360"
      ]
     },
     "execution_count": 149,
     "metadata": {},
     "output_type": "execute_result"
    }
   ],
   "source": [
    "id(b)"
   ]
  },
  {
   "cell_type": "code",
   "execution_count": 150,
   "id": "3c81534a",
   "metadata": {},
   "outputs": [],
   "source": [
    "#using clone\n",
    "b = a.clone()"
   ]
  },
  {
   "cell_type": "code",
   "execution_count": 151,
   "id": "dcdf85b9",
   "metadata": {},
   "outputs": [
    {
     "data": {
      "text/plain": [
       "tensor([[0.0000, 0.2172, 0.4500],\n",
       "        [0.2022, 0.6223, 0.1473]])"
      ]
     },
     "execution_count": 151,
     "metadata": {},
     "output_type": "execute_result"
    }
   ],
   "source": [
    "b"
   ]
  },
  {
   "cell_type": "code",
   "execution_count": 152,
   "id": "4a86c83b",
   "metadata": {},
   "outputs": [
    {
     "data": {
      "text/plain": [
       "tensor([[1.0000, 0.2172, 0.4500],\n",
       "        [0.2022, 0.6223, 0.1473]])"
      ]
     },
     "execution_count": 152,
     "metadata": {},
     "output_type": "execute_result"
    }
   ],
   "source": [
    "a[0][0] =1\n",
    "a"
   ]
  },
  {
   "cell_type": "code",
   "execution_count": 153,
   "id": "96134928",
   "metadata": {},
   "outputs": [
    {
     "data": {
      "text/plain": [
       "tensor([[0.0000, 0.2172, 0.4500],\n",
       "        [0.2022, 0.6223, 0.1473]])"
      ]
     },
     "execution_count": 153,
     "metadata": {},
     "output_type": "execute_result"
    }
   ],
   "source": [
    "b"
   ]
  },
  {
   "cell_type": "code",
   "execution_count": 154,
   "id": "9065cef6",
   "metadata": {},
   "outputs": [
    {
     "data": {
      "text/plain": [
       "1453243937360"
      ]
     },
     "execution_count": 154,
     "metadata": {},
     "output_type": "execute_result"
    }
   ],
   "source": [
    "id(a)"
   ]
  },
  {
   "cell_type": "code",
   "execution_count": 155,
   "id": "f9aa6133",
   "metadata": {},
   "outputs": [
    {
     "data": {
      "text/plain": [
       "1453243956864"
      ]
     },
     "execution_count": 155,
     "metadata": {},
     "output_type": "execute_result"
    }
   ],
   "source": [
    "id(b)"
   ]
  },
  {
   "cell_type": "markdown",
   "id": "fe5cea56",
   "metadata": {},
   "source": [
    "Reshaping Tensors"
   ]
  },
  {
   "cell_type": "code",
   "execution_count": 156,
   "id": "6753cc21",
   "metadata": {},
   "outputs": [
    {
     "data": {
      "text/plain": [
       "tensor([[1., 1., 1., 1.],\n",
       "        [1., 1., 1., 1.],\n",
       "        [1., 1., 1., 1.],\n",
       "        [1., 1., 1., 1.]])"
      ]
     },
     "execution_count": 156,
     "metadata": {},
     "output_type": "execute_result"
    }
   ],
   "source": [
    "a = torch.ones(4,4)\n",
    "a"
   ]
  },
  {
   "cell_type": "code",
   "execution_count": null,
   "id": "bd535308",
   "metadata": {},
   "outputs": [
    {
     "data": {
      "text/plain": [
       "tensor([[[[1., 1.],\n",
       "          [1., 1.]],\n",
       "\n",
       "         [[1., 1.],\n",
       "          [1., 1.]]],\n",
       "\n",
       "\n",
       "        [[[1., 1.],\n",
       "          [1., 1.]],\n",
       "\n",
       "         [[1., 1.],\n",
       "          [1., 1.]]]])"
      ]
     },
     "execution_count": 157,
     "metadata": {},
     "output_type": "execute_result"
    }
   ],
   "source": [
    "#reshape\n",
    "a.reshape(2,2,2,2)"
   ]
  },
  {
   "cell_type": "code",
   "execution_count": 158,
   "id": "d5542603",
   "metadata": {},
   "outputs": [
    {
     "data": {
      "text/plain": [
       "tensor([1., 1., 1., 1., 1., 1., 1., 1., 1., 1., 1., 1., 1., 1., 1., 1.])"
      ]
     },
     "execution_count": 158,
     "metadata": {},
     "output_type": "execute_result"
    }
   ],
   "source": [
    "#flatten\n",
    "a.flatten()"
   ]
  },
  {
   "cell_type": "code",
   "execution_count": 160,
   "id": "9c70c4d5",
   "metadata": {},
   "outputs": [
    {
     "data": {
      "text/plain": [
       "tensor([[[0.7164, 0.5751, 0.2495, 0.0320],\n",
       "         [0.0243, 0.9553, 0.5688, 0.6120],\n",
       "         [0.6900, 0.4161, 0.3959, 0.6941]],\n",
       "\n",
       "        [[0.1078, 0.0892, 0.5717, 0.0500],\n",
       "         [0.0225, 0.8839, 0.9934, 0.4231],\n",
       "         [0.8002, 0.1638, 0.1978, 0.1571]]])"
      ]
     },
     "execution_count": 160,
     "metadata": {},
     "output_type": "execute_result"
    }
   ],
   "source": [
    "b = torch.rand(2,3,4)\n",
    "b"
   ]
  },
  {
   "cell_type": "code",
   "execution_count": 161,
   "id": "15a20dc8",
   "metadata": {},
   "outputs": [
    {
     "data": {
      "text/plain": [
       "torch.Size([4, 2, 3])"
      ]
     },
     "execution_count": 161,
     "metadata": {},
     "output_type": "execute_result"
    }
   ],
   "source": [
    "#permute\n",
    "b.permute(2,0,1).shape\n"
   ]
  },
  {
   "cell_type": "code",
   "execution_count": 162,
   "id": "6f730021",
   "metadata": {},
   "outputs": [
    {
     "data": {
      "text/plain": [
       "torch.Size([1, 226, 226, 3])"
      ]
     },
     "execution_count": 162,
     "metadata": {},
     "output_type": "execute_result"
    }
   ],
   "source": [
    "#unsqueeze --> adding dimension at specified index\n",
    "#image size\n",
    "c = torch.rand(226,226,3)\n",
    "c.unsqueeze(0).shape"
   ]
  },
  {
   "cell_type": "code",
   "execution_count": 163,
   "id": "0e5f1fd9",
   "metadata": {},
   "outputs": [
    {
     "data": {
      "text/plain": [
       "torch.Size([226, 226, 1, 3])"
      ]
     },
     "execution_count": 163,
     "metadata": {},
     "output_type": "execute_result"
    }
   ],
   "source": [
    "c.unsqueeze(2).shape"
   ]
  },
  {
   "cell_type": "code",
   "execution_count": 165,
   "id": "1b168385",
   "metadata": {},
   "outputs": [
    {
     "data": {
      "text/plain": [
       "tensor([[4.7847e-01, 3.8793e-01, 7.2929e-01, 6.1849e-01, 9.3888e-01, 4.3523e-04,\n",
       "         5.7201e-01, 1.7071e-01, 8.2205e-01, 3.1894e-02, 6.8774e-01, 9.7158e-01,\n",
       "         1.3054e-01, 1.7591e-01, 3.1715e-01, 7.2886e-01, 5.5545e-01, 3.3492e-01,\n",
       "         8.2511e-01, 7.4068e-01]])"
      ]
     },
     "execution_count": 165,
     "metadata": {},
     "output_type": "execute_result"
    }
   ],
   "source": [
    "#squeeze\n",
    "d = torch.rand(1,20)\n",
    "d"
   ]
  },
  {
   "cell_type": "code",
   "execution_count": 166,
   "id": "69fbb83c",
   "metadata": {},
   "outputs": [
    {
     "data": {
      "text/plain": [
       "torch.Size([20])"
      ]
     },
     "execution_count": 166,
     "metadata": {},
     "output_type": "execute_result"
    }
   ],
   "source": [
    "d.squeeze(0).shape"
   ]
  },
  {
   "cell_type": "markdown",
   "id": "0c9a7e74",
   "metadata": {},
   "source": [
    "Numpy and Pytorch"
   ]
  },
  {
   "cell_type": "code",
   "execution_count": 167,
   "id": "f717c621",
   "metadata": {},
   "outputs": [],
   "source": [
    "import numpy as np\n"
   ]
  },
  {
   "cell_type": "code",
   "execution_count": 168,
   "id": "e3906f83",
   "metadata": {},
   "outputs": [
    {
     "data": {
      "text/plain": [
       "tensor([1, 2, 4])"
      ]
     },
     "execution_count": 168,
     "metadata": {},
     "output_type": "execute_result"
    }
   ],
   "source": [
    "a =torch.tensor([1,2,4])\n",
    "a"
   ]
  },
  {
   "cell_type": "markdown",
   "id": "64efb8ff",
   "metadata": {},
   "source": [
    "from tensor to numpy"
   ]
  },
  {
   "cell_type": "code",
   "execution_count": 170,
   "id": "b46ce2a3",
   "metadata": {},
   "outputs": [
    {
     "data": {
      "text/plain": [
       "array([1, 2, 4])"
      ]
     },
     "execution_count": 170,
     "metadata": {},
     "output_type": "execute_result"
    }
   ],
   "source": [
    "b = a.numpy()\n",
    "b"
   ]
  },
  {
   "cell_type": "code",
   "execution_count": 171,
   "id": "ed2ea20f",
   "metadata": {},
   "outputs": [
    {
     "data": {
      "text/plain": [
       "numpy.ndarray"
      ]
     },
     "execution_count": 171,
     "metadata": {},
     "output_type": "execute_result"
    }
   ],
   "source": [
    "type(b)"
   ]
  },
  {
   "cell_type": "markdown",
   "id": "8d1329cd",
   "metadata": {},
   "source": [
    "from numpy array to tensor"
   ]
  },
  {
   "cell_type": "code",
   "execution_count": 172,
   "id": "08c70bf1",
   "metadata": {},
   "outputs": [
    {
     "data": {
      "text/plain": [
       "array([1, 2, 5])"
      ]
     },
     "execution_count": 172,
     "metadata": {},
     "output_type": "execute_result"
    }
   ],
   "source": [
    "c =np.array([1,2,5])\n",
    "c"
   ]
  },
  {
   "cell_type": "code",
   "execution_count": 176,
   "id": "773b6d64",
   "metadata": {},
   "outputs": [
    {
     "data": {
      "text/plain": [
       "tensor([1, 2, 5])"
      ]
     },
     "execution_count": 176,
     "metadata": {},
     "output_type": "execute_result"
    }
   ],
   "source": [
    "d= torch.from_numpy(c)\n",
    "d"
   ]
  },
  {
   "cell_type": "code",
   "execution_count": 177,
   "id": "f5f25e1a",
   "metadata": {},
   "outputs": [
    {
     "data": {
      "text/plain": [
       "torch.Tensor"
      ]
     },
     "execution_count": 177,
     "metadata": {},
     "output_type": "execute_result"
    }
   ],
   "source": [
    "type(d)"
   ]
  }
 ],
 "metadata": {
  "kernelspec": {
   "display_name": "Python 3",
   "language": "python",
   "name": "python3"
  },
  "language_info": {
   "codemirror_mode": {
    "name": "ipython",
    "version": 3
   },
   "file_extension": ".py",
   "mimetype": "text/x-python",
   "name": "python",
   "nbconvert_exporter": "python",
   "pygments_lexer": "ipython3",
   "version": "3.12.0"
  }
 },
 "nbformat": 4,
 "nbformat_minor": 5
}
